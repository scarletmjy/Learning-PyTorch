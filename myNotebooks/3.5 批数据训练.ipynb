{
 "cells": [
  {
   "cell_type": "markdown",
   "metadata": {},
   "source": [
    "# 3.5 批数据训练"
   ]
  },
  {
   "cell_type": "code",
   "execution_count": 1,
   "metadata": {},
   "outputs": [],
   "source": [
    "import torch\n",
    "import torch.utils.data as Data"
   ]
  },
  {
   "cell_type": "markdown",
   "metadata": {},
   "source": [
    "**DataLoader中的参数：**  \n",
    "- dataset：Dataset类型，从其中加载数据\n",
    "- batch_size：int，可选。每个batch加载多少样本\n",
    "- shuffle：bool，可选。为True时表示每个epoch都对数据进行洗牌\n",
    "- sampler：Sampler，可选。从数据集中采样样本的方法。\n",
    "- num_workers：int，可选。加载数据时使用多少子进程。默认值为0，表示在主进程中加载数据。\n",
    "- collate_fn：callable，可选。\n",
    "- pin_memory：bool，可选\n",
    "- drop_last：bool，可选。True表示如果最后剩下不完全的batch,丢弃。False表示不丢弃。"
   ]
  },
  {
   "cell_type": "code",
   "execution_count": 7,
   "metadata": {},
   "outputs": [
    {
     "name": "stdout",
     "output_type": "stream",
     "text": [
      "Epoch:  0 | Step:  0 | batch x:  [1. 4. 8. 3. 9.] | batch y:  [10.  7.  3.  8.  2.]\n",
      "Epoch:  0 | Step:  1 | batch x:  [ 2.  6.  5. 10.  7.] | batch y:  [9. 5. 6. 1. 4.]\n",
      "Epoch:  1 | Step:  0 | batch x:  [ 1.  6.  2.  4. 10.] | batch y:  [10.  5.  9.  7.  1.]\n",
      "Epoch:  1 | Step:  1 | batch x:  [8. 5. 7. 3. 9.] | batch y:  [3. 6. 4. 8. 2.]\n",
      "Epoch:  2 | Step:  0 | batch x:  [3. 5. 9. 4. 8.] | batch y:  [8. 6. 2. 7. 3.]\n",
      "Epoch:  2 | Step:  1 | batch x:  [ 7. 10.  1.  2.  6.] | batch y:  [ 4.  1. 10.  9.  5.]\n"
     ]
    }
   ],
   "source": [
    "BATCH_SIZE = 5 #批大小为5\n",
    "\n",
    "x = torch.linspace(1,10,10) #生成数据\n",
    "y = torch.linspace(10,1,10) #生成标签\n",
    "\n",
    "#torch_dataset = Data.TensorDataset(data_tensor=x,target_tensor=y)\n",
    "torch_dataset = Data.TensorDataset(x,y)\n",
    "loader = Data.DataLoader(\n",
    "    dataset=torch_dataset,\n",
    "    batch_size=BATCH_SIZE,\n",
    "    shuffle=True, #打乱数据\n",
    "    num_workers=2 #用2个进程提取数据\n",
    ")\n",
    "\n",
    "for epoch in range(3): #数据整体训练3遍\n",
    "    for step,(batch_x,batch_y) in enumerate(loader): #批训练，step是步数\n",
    "        #训练\n",
    "        print('Epoch: ', epoch, '| Step: ', step, '| batch x: ',\n",
    "              batch_x.numpy(), '| batch y: ', batch_y.numpy())\n",
    "        \n",
    "        "
   ]
  }
 ],
 "metadata": {
  "kernelspec": {
   "display_name": "Python tensorflow",
   "language": "python",
   "name": "tensorflow"
  },
  "language_info": {
   "codemirror_mode": {
    "name": "ipython",
    "version": 3
   },
   "file_extension": ".py",
   "mimetype": "text/x-python",
   "name": "python",
   "nbconvert_exporter": "python",
   "pygments_lexer": "ipython3",
   "version": "3.6.8"
  }
 },
 "nbformat": 4,
 "nbformat_minor": 2
}
