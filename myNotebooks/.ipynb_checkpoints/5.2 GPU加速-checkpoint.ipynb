{
 "cells": [
  {
   "cell_type": "markdown",
   "metadata": {},
   "source": [
    "# 5.2 GPU加速"
   ]
  },
  {
   "cell_type": "markdown",
   "metadata": {},
   "source": [
    "#### 将tensor放到GPU上\n",
    "```python\n",
    "a.cuda()\n",
    "```\n",
    "#### 将计算图放到GPU上\n",
    "```python\n",
    "prediction = torch.max(output,1)[1].cuda().data.squeeze()\n",
    "```\n",
    "#### 将网络模块移动到GPU上\n",
    "```python\n",
    "cnn = CNN()\n",
    "cnn.cuda()\n",
    "```\n",
    "#### 将数据移动到CPU上，pyplot等工具不能在GPU上使用\n",
    "```python\n",
    "prediction = prediction.cpu()\n",
    "```\n"
   ]
  }
 ],
 "metadata": {
  "kernelspec": {
   "display_name": "Python tensorflow",
   "language": "python",
   "name": "tensorflow"
  },
  "language_info": {
   "codemirror_mode": {
    "name": "ipython",
    "version": 3
   },
   "file_extension": ".py",
   "mimetype": "text/x-python",
   "name": "python",
   "nbconvert_exporter": "python",
   "pygments_lexer": "ipython3",
   "version": "3.6.8"
  }
 },
 "nbformat": 4,
 "nbformat_minor": 2
}
