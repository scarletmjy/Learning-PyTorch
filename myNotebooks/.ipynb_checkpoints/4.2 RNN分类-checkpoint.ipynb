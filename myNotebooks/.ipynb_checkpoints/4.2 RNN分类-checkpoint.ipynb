{
 "cells": [
  {
   "cell_type": "markdown",
   "metadata": {},
   "source": [
    "# 4.2 RNN分类"
   ]
  },
  {
   "cell_type": "markdown",
   "metadata": {},
   "source": [
    "对于一张图像，RNN先读进第一行的pixel，再读第二行，以此类推……"
   ]
  },
  {
   "cell_type": "code",
   "execution_count": 2,
   "metadata": {},
   "outputs": [],
   "source": [
    "import torch\n",
    "from torch import nn\n",
    "import torchvision.datasets as dsets\n",
    "import torchvision.transforms as transforms\n",
    "import matplotlib.pyplot as plt\n",
    "\n",
    "EPOCH = 1\n",
    "BATCH_SIZE = 64\n",
    "TIME_STEP = 28   # 一共输入几次 /image height\n",
    "INPUT_SIZE = 28  # 每次输入几个像素点 /image width\n",
    "LR = 0.01"
   ]
  },
  {
   "cell_type": "markdown",
   "metadata": {},
   "source": [
    "### 1. 读取数据"
   ]
  },
  {
   "cell_type": "code",
   "execution_count": 18,
   "metadata": {},
   "outputs": [],
   "source": [
    "#训练数据\n",
    "train_data = dsets.MNIST(\n",
    "    root='./mnist',\n",
    "    train=True,\n",
    "    transform=transforms.ToTensor(), #将数据值压缩为0~1\n",
    "    download=False\n",
    ")\n",
    "train_loader = torch.utils.data.DataLoader(\n",
    "    dataset=train_data,\n",
    "    batch_size=BATCH_SIZE,\n",
    "    shuffle=True,\n",
    "    num_workers=2\n",
    ")\n",
    "#测试数据\n",
    "test_data = dsets.MNIST(root='./mnist',train=False)\n",
    "test_x = test_data.data.type(torch.FloatTensor)[:2000]/255. #shape from (2000, 28, 28) to (2000, 1, 28, 28), value in range(0,1)\n",
    "test_y = test_data.targets.numpy().squeeze()[:2000]"
   ]
  },
  {
   "cell_type": "markdown",
   "metadata": {},
   "source": [
    "### 2. 建立网络"
   ]
  },
  {
   "cell_type": "code",
   "execution_count": 19,
   "metadata": {},
   "outputs": [
    {
     "name": "stdout",
     "output_type": "stream",
     "text": [
      "RNN(\n",
      "  (rnn): LSTM(28, 64, batch_first=True)\n",
      "  (out): Linear(in_features=64, out_features=10, bias=True)\n",
      ")\n"
     ]
    }
   ],
   "source": [
    "class RNN(nn.Module):\n",
    "    def __init__(self):\n",
    "        super(RNN,self).__init__()\n",
    "        \n",
    "        self.rnn = nn.LSTM(\n",
    "            input_size=INPUT_SIZE,\n",
    "            hidden_size=64,\n",
    "            num_layers=1,\n",
    "            batch_first=True, #把batch_size放在第一个维度，(batch, time_step, input_size)\n",
    "        )\n",
    "        \n",
    "        self.out = nn.Linear(64,10)\n",
    "        \n",
    "    def forward(self,x):\n",
    "        r_out,(h_n,h_c) = self.rnn(x,None) # x (batch,time_step,input_size)\n",
    "        out = self.out(r_out[:,-1,:]) #(batch,最后一个time step,input)，最后一个是对整个图片的总结\n",
    "        return out\n",
    "    \n",
    "rnn = RNN()\n",
    "print(rnn)"
   ]
  },
  {
   "cell_type": "code",
   "execution_count": 20,
   "metadata": {},
   "outputs": [],
   "source": [
    "optimizer = torch.optim.Adam(rnn.parameters(),lr=LR)\n",
    "loss_func = nn.CrossEntropyLoss()"
   ]
  },
  {
   "cell_type": "markdown",
   "metadata": {},
   "source": [
    "### 3. 训练"
   ]
  },
  {
   "cell_type": "code",
   "execution_count": 23,
   "metadata": {},
   "outputs": [
    {
     "name": "stdout",
     "output_type": "stream",
     "text": [
      "Epoch:  0 | train loss: 0.7153 | test accuracy: 0.77\n",
      "Epoch:  0 | train loss: 0.3608 | test accuracy: 0.84\n",
      "Epoch:  0 | train loss: 0.4278 | test accuracy: 0.84\n",
      "Epoch:  0 | train loss: 0.2378 | test accuracy: 0.88\n",
      "Epoch:  0 | train loss: 0.2056 | test accuracy: 0.87\n",
      "Epoch:  0 | train loss: 0.1539 | test accuracy: 0.91\n",
      "Epoch:  0 | train loss: 0.1661 | test accuracy: 0.92\n",
      "Epoch:  0 | train loss: 0.2968 | test accuracy: 0.88\n",
      "Epoch:  0 | train loss: 0.2276 | test accuracy: 0.92\n",
      "Epoch:  0 | train loss: 0.1013 | test accuracy: 0.93\n",
      "Epoch:  0 | train loss: 0.2511 | test accuracy: 0.93\n",
      "Epoch:  0 | train loss: 0.1204 | test accuracy: 0.94\n",
      "Epoch:  0 | train loss: 0.1662 | test accuracy: 0.93\n",
      "Epoch:  0 | train loss: 0.2616 | test accuracy: 0.94\n",
      "Epoch:  0 | train loss: 0.2011 | test accuracy: 0.94\n",
      "Epoch:  0 | train loss: 0.0831 | test accuracy: 0.94\n",
      "Epoch:  0 | train loss: 0.0459 | test accuracy: 0.95\n",
      "Epoch:  0 | train loss: 0.1259 | test accuracy: 0.95\n",
      "Epoch:  0 | train loss: 0.3282 | test accuracy: 0.95\n"
     ]
    }
   ],
   "source": [
    "for epoch in range(EPOCH):\n",
    "    for step,(x,y) in enumerate(train_loader):\n",
    "        x=x.view(-1, 28, 28) #(batch, time_step, input_size)\n",
    "        output = rnn(x)\n",
    "        loss = loss_func(output,y)\n",
    "        optimizer.zero_grad()\n",
    "        loss.backward()\n",
    "        optimizer.step()\n",
    "        if step % 50 == 0:\n",
    "            #print(test_x.shape)\n",
    "            test_output = rnn(test_x)                   # (samples, time_step, input_size)\n",
    "            \n",
    "            pred_y = torch.max(test_output, 1)[1].data.numpy().squeeze()\n",
    "            accuracy = sum(pred_y == test_y) / float(test_y.size)\n",
    "            print('Epoch: ', epoch, '| train loss: %.4f' % loss.item(), '| test accuracy: %.2f' % accuracy)\n"
   ]
  },
  {
   "cell_type": "markdown",
   "metadata": {},
   "source": [
    "### 4. 测试"
   ]
  },
  {
   "cell_type": "code",
   "execution_count": 24,
   "metadata": {},
   "outputs": [
    {
     "name": "stdout",
     "output_type": "stream",
     "text": [
      "[7 2 1 0 4 1 4 9 8 9] prediction number\n",
      "[7 2 1 0 4 1 4 9 5 9] real number\n"
     ]
    }
   ],
   "source": [
    "# print 10 predictions from test data\n",
    "test_output = rnn(test_x[:10].view(-1, 28, 28))\n",
    "pred_y = torch.max(test_output, 1)[1].data.numpy().squeeze()\n",
    "print(pred_y, 'prediction number')\n",
    "print(test_y[:10], 'real number')"
   ]
  }
 ],
 "metadata": {
  "kernelspec": {
   "display_name": "Python tensorflow",
   "language": "python",
   "name": "tensorflow"
  },
  "language_info": {
   "codemirror_mode": {
    "name": "ipython",
    "version": 3
   },
   "file_extension": ".py",
   "mimetype": "text/x-python",
   "name": "python",
   "nbconvert_exporter": "python",
   "pygments_lexer": "ipython3",
   "version": "3.6.8"
  }
 },
 "nbformat": 4,
 "nbformat_minor": 2
}
