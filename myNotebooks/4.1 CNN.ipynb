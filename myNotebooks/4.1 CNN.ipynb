{
 "cells": [
  {
   "cell_type": "markdown",
   "metadata": {},
   "source": [
    "# 4.1 CNN"
   ]
  },
  {
   "cell_type": "markdown",
   "metadata": {},
   "source": [
    "### CNN提取图像特征的过程：  \n",
    "   - 先从像素中提取边缘信息\n",
    "   - 边缘信息整合成局部信息，如眼睛嘴巴\n",
    "   - 局部信息整合成整体信息，如脸部信息\n",
    "<div align=\"left\"><img src=\"./CNN提取特征的过程.png\" width=30%></div>"
   ]
  },
  {
   "cell_type": "code",
   "execution_count": 1,
   "metadata": {},
   "outputs": [],
   "source": [
    "import torch\n",
    "import torch.nn as nn\n",
    "import torch.utils.data as Data\n",
    "import torchvision #包括一些数据库\n",
    "import matplotlib.pyplot as plt\n",
    "\n",
    "#定义超参数\n",
    "EPOCH = 1\n",
    "BATCH_SIZE = 50\n",
    "LR = 0.01"
   ]
  },
  {
   "cell_type": "markdown",
   "metadata": {},
   "source": [
    "### 1. 下载数据集\n",
    "#### 下载训练数据："
   ]
  },
  {
   "cell_type": "code",
   "execution_count": 2,
   "metadata": {},
   "outputs": [
    {
     "name": "stdout",
     "output_type": "stream",
     "text": [
      "torch.Size([60000, 28, 28])\n",
      "torch.Size([60000])\n"
     ]
    },
    {
     "data": {
      "image/png": "[encoded data removed]",
      "text/plain": [
       "<Figure size 432x288 with 1 Axes>"
      ]
     },
     "metadata": {
      "needs_background": "light"
     },
     "output_type": "display_data"
    }
   ],
   "source": [
    "train_data = torchvision.datasets.MNIST(\n",
    "    root='./mnist',\n",
    "    train=True,\n",
    "    transform=torchvision.transforms.ToTensor(), #将数据值压缩为0~1\n",
    "    download=False\n",
    ")\n",
    "\n",
    "print(train_data.data.size()) #(60000,28,28)\n",
    "print(train_data.targets.size()) #(60000)\n",
    "#展示图片\n",
    "plt.imshow(train_data.data[0].numpy(),cmap='gray')\n",
    "plt.title('%d' % train_data.targets[0])\n",
    "plt.show()"
   ]
  },
  {
   "cell_type": "code",
   "execution_count": 3,
   "metadata": {},
   "outputs": [],
   "source": [
    "#定义data loader,每批大小为(50, 1, 28, 28)\n",
    "train_loader = Data.DataLoader(\n",
    "    dataset=train_data,\n",
    "    batch_size=BATCH_SIZE,\n",
    "    shuffle=True,\n",
    "    num_workers=2\n",
    ")"
   ]
  },
  {
   "cell_type": "markdown",
   "metadata": {},
   "source": [
    "#### 下载测试数据"
   ]
  },
  {
   "cell_type": "code",
   "execution_count": 4,
   "metadata": {},
   "outputs": [],
   "source": [
    "test_data = torchvision.datasets.MNIST(root='./mnist',train=False)\n",
    "test_x = torch.unsqueeze(test_data.data,dim=1).type(torch.FloatTensor)[:2000]/255. #shape from (2000, 28, 28) to (2000, 1, 28, 28), value in range(0,1)\n",
    "test_y = test_data.targets[:2000]"
   ]
  },
  {
   "cell_type": "markdown",
   "metadata": {},
   "source": [
    "### 2. 定义网络"
   ]
  },
  {
   "cell_type": "code",
   "execution_count": 15,
   "metadata": {},
   "outputs": [
    {
     "name": "stdout",
     "output_type": "stream",
     "text": [
      "CNN(\n",
      "  (conv1): Sequential(\n",
      "    (0): Conv2d(1, 16, kernel_size=(5, 5), stride=(1, 1), padding=(2, 2))\n",
      "    (1): ReLU()\n",
      "    (2): MaxPool2d(kernel_size=2, stride=2, padding=0, dilation=1, ceil_mode=False)\n",
      "  )\n",
      "  (conv2): Sequential(\n",
      "    (0): Conv2d(16, 32, kernel_size=(5, 5), stride=(1, 1), padding=(2, 2))\n",
      "    (1): ReLU()\n",
      "    (2): MaxPool2d(kernel_size=2, stride=2, padding=0, dilation=1, ceil_mode=False)\n",
      "  )\n",
      "  (out): Linear(in_features=1568, out_features=10, bias=True)\n",
      ")\n"
     ]
    }
   ],
   "source": [
    "class CNN(nn.Module):\n",
    "    def __init__(self):\n",
    "        super(CNN,self).__init__()\n",
    "        self.conv1 = nn.Sequential(\n",
    "            #(1,28,28)\n",
    "            nn.Conv2d(\n",
    "                in_channels=1,   #输入数据的通道数\n",
    "                out_channels=16, #卷积核的个数，即输出的通道数\n",
    "                kernel_size=5,   #卷积核的长宽为5\n",
    "                stride=1,\n",
    "                padding=2,       #padding值为0的像素点\n",
    "            ),\n",
    "            #(16,28,28)\n",
    "            nn.ReLU(),\n",
    "            #(16,28,28)\n",
    "            nn.MaxPool2d(\n",
    "                kernel_size=2,\n",
    "            ),\n",
    "            #(16,14,14)\n",
    "        )\n",
    "        self.conv2 = nn.Sequential(\n",
    "            #(16,14,14)\n",
    "            nn.Conv2d(16,32,5,1,2),\n",
    "            #(32,14,14)\n",
    "            nn.ReLU(),\n",
    "            #(32,14,14)\n",
    "            nn.MaxPool2d(2)\n",
    "            #(32,7,7)\n",
    "        )\n",
    "        self.out = nn.Linear(32*7*7,10)\n",
    "        \n",
    "    def forward(self,x):\n",
    "        x = self.conv1(x) \n",
    "        x = self.conv2(x) #(batch,32,7,7)\n",
    "        x = x.view(x.size(0),-1) #(batch,32*7*7)\n",
    "        output = self.out(x)\n",
    "        return output\n",
    "    \n",
    "cnn = CNN()\n",
    "print(cnn)\n",
    "       "
   ]
  },
  {
   "cell_type": "code",
   "execution_count": 16,
   "metadata": {},
   "outputs": [],
   "source": [
    "optimizer = torch.optim.Adam(cnn.parameters(),lr=LR)\n",
    "loss_func = nn.CrossEntropyLoss()"
   ]
  },
  {
   "cell_type": "markdown",
   "metadata": {},
   "source": [
    "### 3. 训练"
   ]
  },
  {
   "cell_type": "code",
   "execution_count": 17,
   "metadata": {},
   "outputs": [
    {
     "name": "stdout",
     "output_type": "stream",
     "text": [
      "epoch:  0 | train loss: 2.3089 | test accuracy: 0.10\n",
      "epoch:  0 | train loss: 0.3676 | test accuracy: 0.91\n",
      "epoch:  0 | train loss: 0.1166 | test accuracy: 0.94\n",
      "epoch:  0 | train loss: 0.1743 | test accuracy: 0.95\n",
      "epoch:  0 | train loss: 0.0463 | test accuracy: 0.95\n",
      "epoch:  0 | train loss: 0.2021 | test accuracy: 0.95\n",
      "epoch:  0 | train loss: 0.1578 | test accuracy: 0.96\n",
      "epoch:  0 | train loss: 0.1187 | test accuracy: 0.96\n",
      "epoch:  0 | train loss: 0.0227 | test accuracy: 0.96\n",
      "epoch:  0 | train loss: 0.0451 | test accuracy: 0.97\n",
      "epoch:  0 | train loss: 0.1135 | test accuracy: 0.96\n",
      "epoch:  0 | train loss: 0.1381 | test accuracy: 0.97\n",
      "epoch:  0 | train loss: 0.0121 | test accuracy: 0.97\n",
      "epoch:  0 | train loss: 0.1566 | test accuracy: 0.97\n",
      "epoch:  0 | train loss: 0.0377 | test accuracy: 0.97\n",
      "epoch:  0 | train loss: 0.0665 | test accuracy: 0.97\n",
      "epoch:  0 | train loss: 0.0970 | test accuracy: 0.98\n",
      "epoch:  0 | train loss: 0.0207 | test accuracy: 0.97\n",
      "epoch:  0 | train loss: 0.0028 | test accuracy: 0.96\n",
      "epoch:  0 | train loss: 0.1614 | test accuracy: 0.97\n",
      "epoch:  0 | train loss: 0.0032 | test accuracy: 0.97\n",
      "epoch:  0 | train loss: 0.0109 | test accuracy: 0.97\n",
      "epoch:  0 | train loss: 0.0469 | test accuracy: 0.97\n",
      "epoch:  0 | train loss: 0.0840 | test accuracy: 0.97\n"
     ]
    }
   ],
   "source": [
    "for epoch in range(EPOCH):\n",
    "    for step,(x,y) in enumerate(train_loader):\n",
    "        #print(x.shape)\n",
    "        output = cnn(x)\n",
    "        #print(output.shape)\n",
    "        #print(output[0].shape)\n",
    "        #print(y.shape)\n",
    "        loss = loss_func(output,y)\n",
    "        optimizer.zero_grad()\n",
    "        loss.backward()\n",
    "        optimizer.step()\n",
    "        \n",
    "        if step % 50 ==0:\n",
    "            test_output = cnn(test_x)\n",
    "            pred_y = torch.max(test_output,1)[1].data.squeeze()\n",
    "            accuracy = (pred_y==test_y).sum().item()/float(test_y.size(0))\n",
    "            print('epoch: ',epoch,'| train loss: %.4f' % loss.item(),'| test accuracy: %.2f' % accuracy)"
   ]
  },
  {
   "cell_type": "markdown",
   "metadata": {},
   "source": [
    "### 4. 测试"
   ]
  },
  {
   "cell_type": "code",
   "execution_count": 18,
   "metadata": {},
   "outputs": [
    {
     "name": "stdout",
     "output_type": "stream",
     "text": [
      "[7 2 1 0 4 1 4 9 5 9] prediction number\n",
      "[7 2 1 0 4 1 4 9 5 9] real number\n"
     ]
    }
   ],
   "source": [
    "#测试前十个\n",
    "test_output = cnn(test_x[:10])\n",
    "pred_y = torch.max(test_output,1)[1].data.numpy().squeeze()\n",
    "print(pred_y,'prediction number')\n",
    "print(test_y[:10].numpy(),'real number')"
   ]
  }
 ],
 "metadata": {
  "kernelspec": {
   "display_name": "Python tensorflow",
   "language": "python",
   "name": "tensorflow"
  },
  "language_info": {
   "codemirror_mode": {
    "name": "ipython",
    "version": 3
   },
   "file_extension": ".py",
   "mimetype": "text/x-python",
   "name": "python",
   "nbconvert_exporter": "python",
   "pygments_lexer": "ipython3",
   "version": "3.6.8"
  }
 },
 "nbformat": 4,
 "nbformat_minor": 2
}
