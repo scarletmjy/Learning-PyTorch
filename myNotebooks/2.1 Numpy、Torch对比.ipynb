{
 "cells": [
  {
   "cell_type": "markdown",
   "metadata": {},
   "source": [
    "# 2.1 Numpy、Torch对比"
   ]
  },
  {
   "cell_type": "code",
   "execution_count": 1,
   "metadata": {},
   "outputs": [],
   "source": [
    "import torch\n",
    "import numpy as np"
   ]
  },
  {
   "cell_type": "markdown",
   "metadata": {},
   "source": [
    "### 1. numpy和torch之间的转换"
   ]
  },
  {
   "cell_type": "code",
   "execution_count": 2,
   "metadata": {},
   "outputs": [
    {
     "name": "stdout",
     "output_type": "stream",
     "text": [
      "\n",
      "numpy [[0 1 2]\n",
      " [3 4 5]] \n",
      "torch tensor([[0, 1, 2],\n",
      "        [3, 4, 5]], dtype=torch.int32) \n",
      "tensor2array [[0 1 2]\n",
      " [3 4 5]]\n"
     ]
    }
   ],
   "source": [
    "np_data = np.arange(6).reshape((2,3))  #2行3列的array\n",
    "torch_data = torch.from_numpy(np_data) #转换成tensor\n",
    "tensor2array = torch_data.numpy()      #tensor转换程numpy array\n",
    "\n",
    "print(\"\\nnumpy\",np_data,\n",
    "      \"\\ntorch\",torch_data,\n",
    "      \"\\ntensor2array\",tensor2array\n",
    "     )"
   ]
  },
  {
   "cell_type": "markdown",
   "metadata": {},
   "source": [
    "### 2. 运算符"
   ]
  },
  {
   "cell_type": "code",
   "execution_count": 3,
   "metadata": {},
   "outputs": [],
   "source": [
    "data = [-1,-2,1,2]\n",
    "tensor = torch.FloatTensor(data) #转换成32bit的浮点数tensor"
   ]
  },
  {
   "cell_type": "markdown",
   "metadata": {},
   "source": [
    "#### 绝对值"
   ]
  },
  {
   "cell_type": "code",
   "execution_count": 5,
   "metadata": {},
   "outputs": [
    {
     "name": "stdout",
     "output_type": "stream",
     "text": [
      "\n",
      "abs\n",
      "numpy [1 2 1 2] \n",
      "torch tensor([1., 2., 1., 2.])\n"
     ]
    }
   ],
   "source": [
    "print(\"\\nabs\"\n",
    "      \"\\nnumpy\",np.abs(data), #[1 2 1 2] \n",
    "      \"\\ntorch\",torch.abs(tensor) #tensor([1., 2., 1., 2.])\n",
    "     )"
   ]
  },
  {
   "cell_type": "markdown",
   "metadata": {},
   "source": [
    "#### 三角函数"
   ]
  },
  {
   "cell_type": "code",
   "execution_count": 6,
   "metadata": {},
   "outputs": [
    {
     "name": "stdout",
     "output_type": "stream",
     "text": [
      "\n",
      "sin\n",
      "numpy [-0.84147098 -0.90929743  0.84147098  0.90929743] \n",
      "torch tensor([-0.8415, -0.9093,  0.8415,  0.9093])\n"
     ]
    }
   ],
   "source": [
    "print(\"\\nsin\"\n",
    "      \"\\nnumpy\",np.sin(data), #[-0.84147098 -0.90929743  0.84147098  0.90929743] \n",
    "      \"\\ntorch\",torch.sin(tensor) #tensor([-0.8415, -0.9093,  0.8415,  0.9093])\n",
    "     )"
   ]
  },
  {
   "cell_type": "markdown",
   "metadata": {},
   "source": [
    "#### 求平均"
   ]
  },
  {
   "cell_type": "code",
   "execution_count": 7,
   "metadata": {},
   "outputs": [
    {
     "name": "stdout",
     "output_type": "stream",
     "text": [
      "\n",
      "mean\n",
      "numpy 0.0 \n",
      "torch tensor(0.)\n"
     ]
    }
   ],
   "source": [
    "print(\"\\nmean\"\n",
    "      \"\\nnumpy\",np.mean(data), #0.0\n",
    "      \"\\ntorch\",torch.mean(tensor) #tensor(0.)\n",
    "     )"
   ]
  },
  {
   "cell_type": "markdown",
   "metadata": {},
   "source": [
    "#### 矩阵运算：乘法"
   ]
  },
  {
   "cell_type": "code",
   "execution_count": 8,
   "metadata": {},
   "outputs": [
    {
     "name": "stdout",
     "output_type": "stream",
     "text": [
      "\n",
      "matrix multiplication\n",
      "numpy [[ 7 10]\n",
      " [15 22]] \n",
      "torch tensor([[ 7., 10.],\n",
      "        [15., 22.]])\n"
     ]
    }
   ],
   "source": [
    "data = [[1,2],[3,4]]\n",
    "tensor = torch.FloatTensor(data)\n",
    "\n",
    "print(\"\\nmatrix multiplication\"\n",
    "      \"\\nnumpy\",np.matmul(data,data), #[[ 7 10]\n",
    "                                      # [15 22]] \n",
    "      \"\\ntorch\",torch.mm(tensor,tensor) #tensor([[ 7., 10.],\n",
    "                                        #[15., 22.]])\n",
    "     )\n",
    "\n",
    "data = np.array(data)\n",
    "print(\"\\nmatrix multiplication\"\n",
    "      \"\\nnumpy\",data.dot(data), #[[ 7 10]\n",
    "                                # [15 22]] \n",
    "      \"\\ntorch\",tensor.dot(tensor) #30.0\n",
    "      #torch运算时将data展平了\n",
    "     )"
   ]
  },
  {
   "cell_type": "code",
   "execution_count": null,
   "metadata": {},
   "outputs": [],
   "source": []
  }
 ],
 "metadata": {
  "kernelspec": {
   "display_name": "Python tensorflow",
   "language": "python",
   "name": "tensorflow"
  },
  "language_info": {
   "codemirror_mode": {
    "name": "ipython",
    "version": 3
   },
   "file_extension": ".py",
   "mimetype": "text/x-python",
   "name": "python",
   "nbconvert_exporter": "python",
   "pygments_lexer": "ipython3",
   "version": "3.6.8"
  }
 },
 "nbformat": 4,
 "nbformat_minor": 2
}
